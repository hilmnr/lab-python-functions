{
 "cells": [
  {
   "cell_type": "markdown",
   "id": "25d7736c-ba17-4aff-b6bb-66eba20fbf4e",
   "metadata": {},
   "source": [
    "# Lab | Functions"
   ]
  },
  {
   "cell_type": "markdown",
   "id": "0c581062-8967-4d93-b06e-62833222f930",
   "metadata": {
    "tags": []
   },
   "source": [
    "## Exercise: Managing Customer Orders with Functions\n",
    "\n",
    "In the previous exercise, you improved the code for managing customer orders by using loops and flow control. Now, let's take it a step further and refactor the code by introducing functions.\n",
    "\n",
    "Follow the steps below to complete the exercise:\n",
    "\n",
    "1. Define a function named `initialize_inventory` that takes `products` as a parameter. Inside the function, implement the code for initializing the inventory dictionary using a loop and user input.\n",
    "\n",
    "2. Define a function named `get_customer_orders` that takes no parameters. Inside the function, implement the code for prompting the user to enter the product names using a loop. The function should return the `customer_orders` set.\n",
    "\n",
    "3. Define a function named `update_inventory` that takes `customer_orders` and `inventory` as parameters. Inside the function, implement the code for updating the inventory dictionary based on the customer orders.\n",
    "\n",
    "4. Define a function named `calculate_order_statistics` that takes `customer_orders` and `products` as parameters. Inside the function, implement the code for calculating the order statistics (total products ordered, and percentage of unique products ordered). The function should return these values.\n",
    "\n",
    "5. Define a function named `print_order_statistics` that takes `order_statistics` as a parameter. Inside the function, implement the code for printing the order statistics.\n",
    "\n",
    "6. Define a function named `print_updated_inventory` that takes `inventory` as a parameter. Inside the function, implement the code for printing the updated inventory.\n",
    "\n",
    "7. Call the functions in the appropriate sequence to execute the program and manage customer orders.\n",
    "\n",
    "Hints for functions:\n",
    "\n",
    "- Consider the input parameters required for each function and their return values.\n",
    "- Utilize function parameters and return values to transfer data between functions.\n",
    "- Test your functions individually to ensure they work correctly.\n",
    "\n",
    "\n"
   ]
  },
  {
   "cell_type": "code",
   "execution_count": 19,
   "id": "0cd6b3f2-4151-4447-9556-9e722483595d",
   "metadata": {
    "tags": []
   },
   "outputs": [],
   "source": [
    "##Step 1\n",
    "def initialize_inventory(products):\n",
    "    inventory = {}\n",
    "    for product in products:\n",
    "        quantity = int(input(f\"Enter the initial quantity of {product}: \"))\n",
    "        inventory[product] = quantity\n",
    "    return inventory"
   ]
  },
  {
   "cell_type": "code",
   "execution_count": 20,
   "id": "763b81e0-ec0f-48c0-817e-d6e5b98fd17b",
   "metadata": {
    "tags": []
   },
   "outputs": [],
   "source": [
    "##Step 2\n",
    "def get_customer_orders():\n",
    "    customer_orders = set()\n",
    "    while True:\n",
    "        product_name = input(\"Enter the name of the product to order (or type 'done' to finish): \")\n",
    "        if product_name.lower() == 'done':\n",
    "            break\n",
    "        customer_orders.add(product_name)\n",
    "    return customer_orders"
   ]
  },
  {
   "cell_type": "code",
   "execution_count": 21,
   "id": "24b01d41-68e3-4503-a6b8-f09c057b5ae6",
   "metadata": {
    "tags": []
   },
   "outputs": [],
   "source": [
    "##Step 3\n",
    "def update_inventory(customer_orders, inventory):\n",
    "    for product in customer_orders:\n",
    "        if product in inventory and inventory[product] > 0:\n",
    "            inventory[product] -= 1\n",
    "        else:\n",
    "            print(f\"Warning: {product} is not in inventory or is out of stock.\")"
   ]
  },
  {
   "cell_type": "code",
   "execution_count": 22,
   "id": "a648f2cb-ba53-4504-a6e6-6a428030697e",
   "metadata": {
    "tags": []
   },
   "outputs": [],
   "source": [
    "#Step 4\n",
    "def calculate_order_statistics(customer_orders, products):\n",
    "    total_ordered = len(customer_orders)\n",
    "    unique_products_ordered = len(set(customer_orders))\n",
    "    return total_ordered, unique_products_ordered"
   ]
  },
  {
   "cell_type": "code",
   "execution_count": 23,
   "id": "4c32846f-f673-4a7d-80f2-3c4d6e469d7d",
   "metadata": {
    "tags": []
   },
   "outputs": [],
   "source": [
    "#Step 5\n",
    "def print_order_statistics(order_statistics):\n",
    "    total_ordered, unique_products_ordered = order_statistics\n",
    "    print(f\"Total products ordered: {total_ordered}\")\n",
    "    print(f\"Percentage of unique products ordered: {(unique_products_ordered / total_ordered) * 100:.2f}%\")"
   ]
  },
  {
   "cell_type": "code",
   "execution_count": 24,
   "id": "4ae97cf3-a461-42d0-bdb4-360873c4e5e2",
   "metadata": {
    "tags": []
   },
   "outputs": [],
   "source": [
    "#Step 6 \n",
    "def print_updated_inventory(inventory):\n",
    "    print(\"Updated Inventory:\")\n",
    "    for product, quantity in inventory.items():\n",
    "        print(f\"{product}: {quantity}\")"
   ]
  },
  {
   "cell_type": "code",
   "execution_count": null,
   "id": "0a98db0b-aea5-4c3d-991b-709058e5ee4f",
   "metadata": {
    "tags": []
   },
   "outputs": [],
   "source": [
    "if __name__ == \"__main__\":\n",
    "     # Step 1: Initialize inventory\n",
    "    products = [\"t-shirt\", \"mug\", \"hat\", \"book\", \"keychain\"]\n",
    "    inventory = initialize_inventory(products)\n",
    "\n",
    "    # Step 2: Get customer orders\n",
    "    customer_orders = get_customer_orders()\n",
    "\n",
    "    # Step 3: Update inventory\n",
    "    update_inventory(customer_orders, inventory)\n",
    "\n",
    "    # Step 4: Calculate order statistics\n",
    "    order_statistics = calculate_order_statistics(customer_orders, products)\n",
    "\n",
    "    # Step 5: Print order statistics\n",
    "    print_order_statistics(order_statistics)\n",
    "\n",
    "    # Step 6: Print updated inventory\n",
    "    print_updated_inventory(inventory)"
   ]
  },
  {
   "cell_type": "code",
   "execution_count": null,
   "id": "6c58aea8-aa18-47da-bd36-40205cc902b4",
   "metadata": {},
   "outputs": [],
   "source": []
  }
 ],
 "metadata": {
  "kernelspec": {
   "display_name": "Python 3 (ipykernel)",
   "language": "python",
   "name": "python3"
  },
  "language_info": {
   "codemirror_mode": {
    "name": "ipython",
    "version": 3
   },
   "file_extension": ".py",
   "mimetype": "text/x-python",
   "name": "python",
   "nbconvert_exporter": "python",
   "pygments_lexer": "ipython3",
   "version": "3.11.4"
  }
 },
 "nbformat": 4,
 "nbformat_minor": 5
}
